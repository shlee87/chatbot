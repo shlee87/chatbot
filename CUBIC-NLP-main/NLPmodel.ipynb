{
 "cells": [
  {
   "cell_type": "code",
   "execution_count": 2,
   "metadata": {},
   "outputs": [],
   "source": [
    "#to import list of skills from a csv file\n",
    "\n",
    "import csv\n",
    "file = open(\"skills.csv\", \"r\")\n",
    "data = list(csv.reader(file, delimiter=\"\\n\"))\n",
    "file.close()\n",
    "\n",
    "list1 =[]\n",
    "\n",
    "    \n",
    "list1 = [list(x) for x in data]\n",
    "#print(list1)\n",
    "\n",
    "string_list = [' '.join(item) for item in data]\n",
    "\n",
    "for i in range(len(string_list)):\n",
    "\n",
    "    string_list[i] = string_list[i].lower()"
   ]
  },
  {
   "cell_type": "code",
   "execution_count": null,
   "metadata": {},
   "outputs": [],
   "source": [
    "import spacy\n",
    "import pickle"
   ]
  },
  {
   "cell_type": "code",
   "execution_count": 3,
   "metadata": {},
   "outputs": [],
   "source": [
    "#create a blank spacy pipeline\n",
    "\n",
    "nlp = spacy.blank(\"en\")\n",
    "from spacy.matcher import PhraseMatcher\n",
    "matcher1 = PhraseMatcher(nlp.vocab)\n",
    "\n",
    "phrase_patterns = [nlp(text) for text in string_list]"
   ]
  },
  {
   "cell_type": "code",
   "execution_count": 4,
   "metadata": {},
   "outputs": [],
   "source": [
    "#add patterns to the pipeline\n",
    "matcher1.add('SKILL',None, *phrase_patterns)"
   ]
  },
  {
   "cell_type": "code",
   "execution_count": null,
   "metadata": {},
   "outputs": [],
   "source": [
    "#store model as a pickle\n",
    "\n",
    "file = open('important2.pkl', 'wb')\n",
    "b = pickle.dump(matcher1, file)\n",
    "file.close()"
   ]
  },
  {
   "cell_type": "code",
   "execution_count": 10,
   "metadata": {},
   "outputs": [],
   "source": [
    "#to try it locally\n",
    "\n",
    "with open('important2.pkl', 'rb') as f:\n",
    "    b2 = pickle.load(f)\n",
    "nlp2=spacy.blank(\"en\", vocab=b2.vocab)\n",
    "\n",
    "def identify_skills(doc):\n",
    "    final = []\n",
    "    matches = b2(doc)\n",
    "    for match_id, start, end in matches:\n",
    "        string_id = b2.vocab.strings[match_id]\n",
    "        span = doc[start:end]\n",
    "        final.append(span.text)\n",
    "    return final"
   ]
  },
  {
   "cell_type": "code",
   "execution_count": 11,
   "metadata": {},
   "outputs": [
    {
     "data": {
      "text/plain": [
       "['java', 'angular', 'leadership', 'microsoft excel']"
      ]
     },
     "execution_count": 11,
     "metadata": {},
     "output_type": "execute_result"
    }
   ],
   "source": [
    "str = \"Show me employee with skills java, angular, leadership , microsoft excel\"\n",
    "str = str.lower()\n",
    "doc = nlp2(str)\n",
    "\n",
    "identify_skills(doc)"
   ]
  }
 ],
 "metadata": {
  "kernelspec": {
   "display_name": "Python 3.10.5 64-bit",
   "language": "python",
   "name": "python3"
  },
  "language_info": {
   "codemirror_mode": {
    "name": "ipython",
    "version": 3
   },
   "file_extension": ".py",
   "mimetype": "text/x-python",
   "name": "python",
   "nbconvert_exporter": "python",
   "pygments_lexer": "ipython3",
   "version": "3.10.5"
  },
  "orig_nbformat": 4,
  "vscode": {
   "interpreter": {
    "hash": "74ca039ec2c635b958626ba3f8f5afe10e171e52bb749c2513786b119e405cea"
   }
  }
 },
 "nbformat": 4,
 "nbformat_minor": 2
}
